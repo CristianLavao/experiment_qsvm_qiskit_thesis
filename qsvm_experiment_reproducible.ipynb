{
  "cells": [
    {
      "cell_type": "markdown",
      "metadata": {},
      "source": [
        "# QSVM vs SVM — Protocolo Reproducible con Validación Cruzada, Tuning, Repeticiones y Significancia\n",
        "\n",
        "*Generado automáticamente: 2025-10-27T02:53:43*\n",
        "\n",
        "Este cuaderno implementa un **protocolo robusto** para comparar **QSVM** (kernel cuántico) vs **SVM** (kernels clásicos) con:\n",
        "- Validación cruzada estratificada (k-fold) con **repeticiones** por *seeds*.\n",
        "- **Búsqueda de hiperparámetros** (GridSearch/ParameterGrid) comparable entre modelos.\n",
        "- **Pruebas de significancia** (t pareada y Wilcoxon) y **tamaños de efecto**.\n",
        "- **Alineación de kernels** (clásicos vs cuántico) para justificar la elección del kernel.\n",
        "- Exportación de resultados y *artefactos* (CSV/JSON) para auditoría.\n"
      ]
    },
    {
      "cell_type": "markdown",
      "metadata": {},
      "source": [
        "## 0) Requisitos e instalación (ejecutar una vez)\n",
        "\n",
        "> **Nota:** Este cuaderno no se ejecuta aquí. Ejecútalo localmente con un entorno que tenga Qiskit y Qiskit Machine Learning instalados (ver *pip* abajo).\n"
      ]
    },
    {
      "cell_type": "code",
      "execution_count": null,
      "metadata": {},
      "outputs": [],
      "source": [
        "# Recomendado (ajusta versiones según tu entorno):\n",
        "# !pip install --upgrade pip\n",
        "# !pip install qiskit==1.4.4 qiskit-machine-learning==0.8.4 scikit-learn==1.4.2 scipy pandas matplotlib\n",
        "# Opcional: IBM Runtime (si usarás hardware real)\n",
        "# !pip install qiskit-ibm-runtime==0.23.0\n"
      ]
    },
    {
      "cell_type": "markdown",
      "metadata": {},
      "source": [
        "## 1) Configuración y reproducibilidad\n",
        "- Semillas globales\n",
        "- Control de *backend* cuántico (simulador vs IBM Runtime)\n",
        "- Carpeta de salida para resultados\n"
      ]
    },
    {
      "cell_type": "code",
      "execution_count": 11,
      "metadata": {},
      "outputs": [
        {
          "name": "stdout",
          "output_type": "stream",
          "text": [
            "Seed: 42\n",
            "Output dir: C:\\Users\\Cassandra\\Desktop\\qsvm_cristian\\results_qsvm_experiment\n"
          ]
        }
      ],
      "source": [
        "import os, json, math, random, pathlib, time, itertools, statistics, functools\n",
        "from dataclasses import dataclass\n",
        "from pathlib import Path\n",
        "import numpy as np\n",
        "import pandas as pd\n",
        "\n",
        "# Reproducibilidad\n",
        "SEED = 42\n",
        "random.seed(SEED)\n",
        "np.random.seed(SEED)\n",
        "\n",
        "# Salidas\n",
        "OUT_DIR = Path(\"results_qsvm_experiment\")\n",
        "OUT_DIR.mkdir(parents=True, exist_ok=True)\n",
        "\n",
        "print(\"Seed:\", SEED)\n",
        "print(\"Output dir:\", OUT_DIR.resolve())\n"
      ]
    },
    {
      "cell_type": "markdown",
      "metadata": {},
      "source": [
        "## 2) Datos y *pipeline* base\n",
        "- Dataset: **Breast Cancer Wisconsin** (scikit-learn)\n",
        "- **Estandarización** + (opcional) **PCA**\n",
        "- Separación estratificada se maneja dentro de la CV\n"
      ]
    },
    {
      "cell_type": "code",
      "execution_count": 12,
      "metadata": {},
      "outputs": [
        {
          "name": "stdout",
          "output_type": "stream",
          "text": [
            "X shape: (569, 30) | y shape: (569,) | classes: {np.int64(0), np.int64(1)}\n"
          ]
        }
      ],
      "source": [
        "from sklearn.datasets import load_breast_cancer\n",
        "from sklearn.preprocessing import StandardScaler\n",
        "from sklearn.decomposition import PCA\n",
        "from sklearn.pipeline import Pipeline\n",
        "\n",
        "data = load_breast_cancer()\n",
        "X = data.data\n",
        "y = data.target\n",
        "feature_names = data.feature_names\n",
        "\n",
        "print(\"X shape:\", X.shape, \"| y shape:\", y.shape, \"| classes:\", set(y))\n"
      ]
    },
    {
      "cell_type": "code",
      "execution_count": 13,
      "id": "82704008",
      "metadata": {},
      "outputs": [],
      "source": [
        "from qiskit.circuit.library import ZZFeatureMap\n",
        "from qiskit.primitives import StatevectorSampler\n",
        "from qiskit_algorithms.state_fidelities import ComputeUncompute\n",
        "from qiskit_machine_learning.kernels import FidelityQuantumKernel\n",
        "from qiskit_aer import AerSimulator\n",
        "\n",
        "def preprocess_features(X):\n",
        "    scaler = StandardScaler()\n",
        "    X_scaled = scaler.fit_transform(X)\n",
        "\n",
        "    backend = AerSimulator()\n",
        "    try:\n",
        "        #max_qubits = backend.configuration().num_qubits\n",
        "        max_qubits = 10\n",
        "    except Exception:\n",
        "        max_qubits = 29\n",
        "\n",
        "    n_features = X_scaled.shape[1]\n",
        "    if n_features > max_qubits:\n",
        "        print(f\"[INFO] El dataset tiene {n_features} features, reduciendo a {max_qubits} mediante PCA.\")\n",
        "        pca = PCA(n_components=max_qubits, random_state=42)\n",
        "        X_reduced = pca.fit_transform(X_scaled)\n",
        "        return X_reduced, pca\n",
        "    else:\n",
        "        print(f\"[INFO] El dataset tiene {n_features} features, no se aplica PCA.\")\n",
        "        return X_scaled, None\n"
      ]
    },
    {
      "cell_type": "code",
      "execution_count": 14,
      "id": "215697c6",
      "metadata": {},
      "outputs": [
        {
          "name": "stdout",
          "output_type": "stream",
          "text": [
            "[INFO] El dataset tiene 30 features, reduciendo a 10 mediante PCA.\n"
          ]
        }
      ],
      "source": [
        "\n",
        "# === Paso adicional: preprocesamiento automático (PCA si excede qubits) ===\n",
        "X, pca_model = preprocess_features(X)"
      ]
    },
    {
      "cell_type": "markdown",
      "metadata": {},
      "source": [
        "## 3) Protocolo de validación\n",
        "- **RepeatedStratifiedKFold** para obtener múltiples *splits* con distintas semillas.\n",
        "- Parametrizable: `n_splits` y `n_repeats`.\n"
      ]
    },
    {
      "cell_type": "code",
      "execution_count": 15,
      "metadata": {},
      "outputs": [
        {
          "name": "stdout",
          "output_type": "stream",
          "text": [
            "Protocol: 2-fold CV x 2 repeats -> 4 evaluations\n"
          ]
        }
      ],
      "source": [
        "from sklearn.model_selection import RepeatedStratifiedKFold, StratifiedKFold, GridSearchCV\n",
        "\n",
        "N_SPLITS = 2\n",
        "N_REPEATS = 2  # ajusta si deseas más/menos repeticiones\n",
        "\n",
        "rskf = RepeatedStratifiedKFold(n_splits=N_SPLITS, n_repeats=N_REPEATS, random_state=SEED)\n",
        "print(f\"Protocol: {N_SPLITS}-fold CV x {N_REPEATS} repeats -> {N_SPLITS*N_REPEATS} evaluations\")\n"
      ]
    },
    {
      "cell_type": "markdown",
      "metadata": {},
      "source": [
        "## 4) Modelos clásicos — SVM con tuning comparable\n",
        "- *Pipeline*: `StandardScaler` → `SVC`\n",
        "- *Grid search* de `C` y `gamma` para RBF; además añadimos **kernels lineal y polinomial** para la discusión.\n",
        "- Métrica principal: **accuracy** (puedes añadir F1 macro).\n"
      ]
    },
    {
      "cell_type": "code",
      "execution_count": 16,
      "metadata": {},
      "outputs": [],
      "source": [
        "from sklearn.svm import SVC\n",
        "from sklearn.metrics import accuracy_score, f1_score, precision_score, recall_score, make_scorer\n",
        "\n",
        "svm_pipeline = Pipeline([\n",
        "    (\"scaler\", StandardScaler()),\n",
        "    (\"svc\", SVC(probability=True, random_state=SEED))\n",
        "])\n",
        "\n",
        "# Buscaremos sobre múltiples kernels; para lineal y poly, gamma se ignora automáticamente\n",
        "param_grid_svm = [\n",
        "    {\"svc__kernel\": [\"rbf\"], \"svc__C\": [0.1, 1, 10, 100], \"svc__gamma\": [\"scale\", 0.01, 0.1, 1]},\n",
        "    {\"svc__kernel\": [\"linear\"], \"svc__C\": [0.1, 1, 10, 100]},\n",
        "    {\"svc__kernel\": [\"poly\"], \"svc__C\": [0.1, 1, 10], \"svc__degree\": [2, 3], \"svc__gamma\": [\"scale\", 0.1]}\n",
        "]\n",
        "\n",
        "scorer = make_scorer(accuracy_score)  # principal; puedes añadir f1_macro en otro GridSearch\n",
        "inner_cv = StratifiedKFold(n_splits=5, shuffle=True, random_state=SEED)\n",
        "\n",
        "svm_gs = GridSearchCV(\n",
        "    estimator=svm_pipeline,\n",
        "    param_grid=param_grid_svm,\n",
        "    scoring=scorer,\n",
        "    cv=inner_cv,\n",
        "    n_jobs=-1,\n",
        "    refit=True,\n",
        "    verbose=1\n",
        ")\n"
      ]
    },
    {
      "cell_type": "markdown",
      "metadata": {},
      "source": [
        "## 5) QSVM — Kernel cuántico con tuning y CV equiparable\n",
        "- *Feature map* (por defecto **ZZFeatureMap**) con `reps` como hiperparámetro.\n",
        "- **FidelityQuantumKernel** (simulador por defecto; IBM Runtime opcional).\n",
        "- Usamos **QSVC** de Qiskit Machine Learning (interfaz estilo scikit-learn).\n",
        "- Dado que `GridSearchCV` puede ser restrictivo con estimadores personalizados, **iteramos manualmente una `ParameterGrid`** y aplicamos la misma CV externa (`rskf`) para cada configuración.\n"
      ]
    },
    {
      "cell_type": "code",
      "execution_count": 17,
      "id": "8ddbb417",
      "metadata": {},
      "outputs": [
        {
          "name": "stdout",
          "output_type": "stream",
          "text": [
            "QSVM grid size: 9\n"
          ]
        }
      ],
      "source": [
        "from qiskit.circuit.library import ZZFeatureMap\n",
        "from qiskit_machine_learning.kernels import FidelityQuantumKernel\n",
        "#from qiskit_algorithms.kernels import QuantumKernel\n",
        "from qiskit_machine_learning.algorithms import QSVC\n",
        "from qiskit_aer import AerSimulator\n",
        "from qiskit.primitives import Sampler, StatevectorSampler, BackendSampler\n",
        "from qiskit_algorithms.state_fidelities import ComputeUncompute\n",
        "\n",
        "#import warnings\n",
        "#warnings.filterwarnings(\"ignore\", category=DeprecationWarning)\n",
        "\n",
        "\n",
        "# Kernel cuántico usando SOLO simulador local (sin IBM Runtime)\n",
        "def make_quantum_kernel(reps=2, feature_dimension=None):\n",
        "    if feature_dimension is None:\n",
        "        raise ValueError(\"Debes indicar feature_dimension = número de columnas del dataset\")\n",
        "\n",
        "    feature_map = ZZFeatureMap(feature_dimension=feature_dimension, reps=reps, entanglement=\"linear\")\n",
        "    sampler = StatevectorSampler()\n",
        "    fidelity = ComputeUncompute(sampler=sampler)\n",
        "    qk = FidelityQuantumKernel(feature_map=feature_map, fidelity=fidelity)\n",
        "    return qk\n",
        "\n",
        "\n",
        "# Espacio de hiperparámetros QSVM (tuning comparable)\n",
        "from sklearn.model_selection import ParameterGrid\n",
        "param_grid_qsvm = {\n",
        "    \"reps\": [1, 2, 3],     # profundidad del feature map\n",
        "    \"C\": [0.1, 1, 10]      # parámetro de margen del clasificador SVM subyacente\n",
        "}\n",
        "grid_qsvm = list(ParameterGrid(param_grid_qsvm))\n",
        "print(\"QSVM grid size:\", len(grid_qsvm))\n",
        "\n"
      ]
    },
    {
      "cell_type": "markdown",
      "id": "dc7192b1",
      "metadata": {},
      "source": [
        "# Espacio con hardware IBM"
      ]
    },
    {
      "cell_type": "code",
      "execution_count": null,
      "metadata": {},
      "outputs": [
        {
          "name": "stdout",
          "output_type": "stream",
          "text": [
            "QSVM grid size: 9\n"
          ]
        }
      ],
      "source": [
        "# IMPORTS QSVM (se asume entorno con Qiskit ML)\n",
        "from qiskit.circuit.library import ZZFeatureMap\n",
        "from qiskit_machine_learning.kernels import FidelityQuantumKernel\n",
        "from qiskit_machine_learning.algorithms import QSVC\n",
        "from qiskit_ibm_runtime import QiskitRuntimeService, Session\n",
        "\n",
        "# Backend selector (simulador por defecto)\n",
        "USE_IBM_RUNTIME = False  # cambia a True si tienes IBM Runtime configurado\n",
        "IBM_CHANNEL = None       # 'ibm_quantum' o 'ibm_cloud'; requiere autenticación previa\n",
        "\n",
        "# Definición de kernel cuántico (simulador por defecto)\n",
        "def make_quantum_kernel(reps=2, feature_dimension=None):\n",
        "\n",
        "    service = QiskitRuntimeService(channel=\"ibm_cloud\", token=\"McQGbuC5M-k3vyOLJWIZ2vI1T7goLOs90GRXreYivLHH\", instance=\"ibm_escuela\")\n",
        "    #service = QiskitRuntimeService.save_account(channel=\"ibm_cloud\", token=\"hRGgo7sQETDfg6nSrpFUfDOQNHzQLOTCz3D7TaDOvjEL\")\n",
        "    backend = service.backend(\"ibm_brisbane\")\n",
        "\n",
        "    #with Session(service=service, backend=backend):\n",
        "    fm = ZZFeatureMap(feature_dimension=feature_dimension, reps=reps, entanglement=\"full\")\n",
        "    qk = FidelityQuantumKernel(feature_map=fm,)  # usa simulador de estado por defecto\n",
        "    return qk\n",
        "\n",
        "# Espacio de hiperparámetros QSVM (tuning comparable)\n",
        "from sklearn.model_selection import ParameterGrid\n",
        "param_grid_qsvm = {\n",
        "    \"reps\": [1, 2, 3],     # profundidad del feature map\n",
        "    \"C\": [0.1, 1, 10]      # parámetro de margen del clasificador SVM subyacente\n",
        "}\n",
        "grid_qsvm = list(ParameterGrid(param_grid_qsvm))\n",
        "print(\"QSVM grid size:\", len(grid_qsvm))\n"
      ]
    },
    {
      "cell_type": "markdown",
      "metadata": {},
      "source": [
        "## 6) Bucle de evaluación — Métricas por *split* para SVM y QSVM\n",
        "- Para cada *split* de `RepeatedStratifiedKFold`:\n",
        "  - Hacemos *GridSearch* para SVM clásico (inner-CV).\n",
        "  - Iteramos `ParameterGrid` para QSVM y guardamos la mejor combinación.\n",
        "- Guardamos métricas por *split* para **análisis estadístico** posterior.\n"
      ]
    },
    {
      "cell_type": "code",
      "execution_count": 18,
      "metadata": {},
      "outputs": [
        {
          "name": "stdout",
          "output_type": "stream",
          "text": [
            "Fitting 5 folds for each of 32 candidates, totalling 160 fits\n",
            "Done split 1: acc_svm=0.9509 | acc_qsvm=0.6281\n",
            "Fitting 5 folds for each of 32 candidates, totalling 160 fits\n",
            "Done split 2: acc_svm=0.9683 | acc_qsvm=0.6268\n",
            "Fitting 5 folds for each of 32 candidates, totalling 160 fits\n",
            "Done split 3: acc_svm=0.9684 | acc_qsvm=0.6281\n",
            "Fitting 5 folds for each of 32 candidates, totalling 160 fits\n",
            "Done split 4: acc_svm=0.9472 | acc_qsvm=0.6268\n",
            "Saved raw results -> results_qsvm_experiment\\raw_results.json\n"
          ]
        }
      ],
      "source": [
        "from collections import defaultdict\n",
        "\n",
        "from sklearn.metrics import accuracy_score, f1_score\n",
        "\n",
        "def evaluate_on_split(X_train, y_train, X_test, y_test, seed=SEED):\n",
        "    # --- SVM clásico con GridSearchCV ---\n",
        "    svm_gs.fit(X_train, y_train)\n",
        "    best_svm = svm_gs.best_estimator_\n",
        "    y_pred_svm = best_svm.predict(X_test)\n",
        "    acc_svm = accuracy_score(y_test, y_pred_svm)\n",
        "    f1_svm = f1_score(y_test, y_pred_svm, average=\"binary\")\n",
        "\n",
        "    # --- QSVM: iteramos parámetro 'reps' y 'C' ---\n",
        "    best_qsvm_model = None\n",
        "    best_qsvm_score = -np.inf\n",
        "    best_qsvm_params = None\n",
        "\n",
        "    for params in grid_qsvm:\n",
        "        qk = make_quantum_kernel(reps=params[\"reps\"], feature_dimension=X_train.shape[1])\n",
        "        qsvc = QSVC(quantum_kernel=qk, C=params[\"C\"]) \n",
        "        qsvc.fit(X_train, y_train)\n",
        "        y_pred_q = qsvc.predict(X_test)\n",
        "        acc_q = accuracy_score(y_test, y_pred_q)\n",
        "        if acc_q > best_qsvm_score:\n",
        "            best_qsvm_score = acc_q\n",
        "            best_qsvm_model = qsvc\n",
        "            best_qsvm_params = params\n",
        "\n",
        "    # Recalcula f1 para el mejor QSVM\n",
        "    y_pred_q_best = best_qsvm_model.predict(X_test)\n",
        "    f1_q = f1_score(y_test, y_pred_q_best, average=\"binary\")\n",
        "\n",
        "    return {\n",
        "        \"svm\": {\n",
        "            \"acc\": acc_svm,\n",
        "            \"f1\": f1_svm,\n",
        "            \"best_params\": svm_gs.best_params_\n",
        "        },\n",
        "        \"qsvm\": {\n",
        "            \"acc\": best_qsvm_score,\n",
        "            \"f1\": f1_q,\n",
        "            \"best_params\": best_qsvm_params\n",
        "        }\n",
        "    }\n",
        "\n",
        "results = []\n",
        "split_idx = 0\n",
        "for train_idx, test_idx in rskf.split(X, y):\n",
        "    split_idx += 1\n",
        "    X_train, X_test = X[train_idx], X[test_idx]\n",
        "    y_train, y_test = y[train_idx], y[test_idx]\n",
        "    res = evaluate_on_split(X_train, y_train, X_test, y_test, seed=SEED)\n",
        "    res[\"split\"] = split_idx\n",
        "    results.append(res)\n",
        "    print(f\"Done split {split_idx}: acc_svm={res['svm']['acc']:.4f} | acc_qsvm={res['qsvm']['acc']:.4f}\")\n",
        "\n",
        "# Exportar resultados crudos\n",
        "with open(OUT_DIR / \"raw_results.json\", \"w\") as f:\n",
        "    json.dump(results, f, indent=2)\n",
        "print(\"Saved raw results ->\", OUT_DIR / \"raw_results.json\")\n"
      ]
    },
    {
      "cell_type": "markdown",
      "metadata": {},
      "source": [
        "## 7) Estadística inferencial y tamaños de efecto\n",
        "- Comparación **pareada** de *accuracy* (y F1) entre SVM y QSVM por *split*.\n",
        "- Pruebas: **t-test pareado** y **Wilcoxon**.\n",
        "- Tamaño de efecto: **Cohen's d** para muestras pareadas.\n"
      ]
    },
    {
      "cell_type": "code",
      "execution_count": 19,
      "metadata": {},
      "outputs": [
        {
          "data": {
            "text/plain": [
              "{'acc': {'svm': {'mean': 0.9586978008401286,\n",
              "   'std': 0.011264746861840041,\n",
              "   'n': 4},\n",
              "  'qsvm': {'mean': 0.6274153694094391, 'std': 0.000756104874401973, 'n': 4},\n",
              "  't_paired': {'statistic': 59.07168177606642,\n",
              "   'pvalue': 1.0687715126351754e-05},\n",
              "  'wilcoxon': {'statistic': 0.0, 'pvalue': 0.125},\n",
              "  'cohens_d': 29.53584088803321},\n",
              " 'f1': {'svm': {'mean': 0.9674917664819409,\n",
              "   'std': 0.008973719766731735,\n",
              "   'n': 4},\n",
              "  'qsvm': {'mean': 0.7710572473503507, 'std': 0.0005709726128349514, 'n': 4},\n",
              "  't_paired': {'statistic': 43.980242933539756,\n",
              "   'pvalue': 2.5875584361510744e-05},\n",
              "  'wilcoxon': {'statistic': 0.0, 'pvalue': 0.125},\n",
              "  'cohens_d': 21.990121466769878}}"
            ]
          },
          "execution_count": 19,
          "metadata": {},
          "output_type": "execute_result"
        }
      ],
      "source": [
        "from scipy import stats\n",
        "import numpy as np\n",
        "\n",
        "# Aplanar resultados\n",
        "acc_svm = [r[\"svm\"][\"acc\"] for r in results]\n",
        "acc_qsvm = [r[\"qsvm\"][\"acc\"] for r in results]\n",
        "f1_svm  = [r[\"svm\"][\"f1\"]  for r in results]\n",
        "f1_qsvm = [r[\"qsvm\"][\"f1\"] for r in results]\n",
        "\n",
        "def paired_cohens_d(a, b):\n",
        "    diff = np.array(a) - np.array(b)\n",
        "    return diff.mean() / diff.std(ddof=1)\n",
        "\n",
        "def summary_stats(vec):\n",
        "    return {\"mean\": float(np.mean(vec)), \"std\": float(np.std(vec, ddof=1)), \"n\": len(vec)}\n",
        "\n",
        "t_acc = stats.ttest_rel(acc_svm, acc_qsvm)\n",
        "w_acc = stats.wilcoxon(acc_svm, acc_qsvm)\n",
        "t_f1  = stats.ttest_rel(f1_svm, f1_qsvm)\n",
        "w_f1  = stats.wilcoxon(f1_svm, f1_qsvm)\n",
        "\n",
        "stats_summary = {\n",
        "    \"acc\": {\n",
        "        \"svm\": summary_stats(acc_svm),\n",
        "        \"qsvm\": summary_stats(acc_qsvm),\n",
        "        \"t_paired\": {\"statistic\": float(t_acc.statistic), \"pvalue\": float(t_acc.pvalue)},\n",
        "        \"wilcoxon\": {\"statistic\": float(w_acc.statistic), \"pvalue\": float(w_acc.pvalue)},\n",
        "        \"cohens_d\": float(paired_cohens_d(acc_svm, acc_qsvm))\n",
        "    },\n",
        "    \"f1\": {\n",
        "        \"svm\": summary_stats(f1_svm),\n",
        "        \"qsvm\": summary_stats(f1_qsvm),\n",
        "        \"t_paired\": {\"statistic\": float(t_f1.statistic), \"pvalue\": float(t_f1.pvalue)},\n",
        "        \"wilcoxon\": {\"statistic\": float(w_f1.statistic), \"pvalue\": float(w_f1.pvalue)},\n",
        "        \"cohens_d\": float(paired_cohens_d(f1_svm, f1_qsvm))\n",
        "    }\n",
        "}\n",
        "\n",
        "with open(OUT_DIR / \"stats_summary.json\", \"w\") as f:\n",
        "    json.dump(stats_summary, f, indent=2)\n",
        "stats_summary\n"
      ]
    },
    {
      "cell_type": "markdown",
      "metadata": {},
      "source": [
        "## 8) Alineación de kernels (justificación de elección de kernel)\n",
        "- **Kernel alignment** centrado entre matriz de kernel y etiquetas.\n",
        "- Comparamos: **RBF**, **lineal**, **polinomial** vs **kernel cuántico**.\n"
      ]
    },
    {
      "cell_type": "code",
      "execution_count": 20,
      "metadata": {},
      "outputs": [
        {
          "data": {
            "text/plain": [
              "{'rbf': 0.38259177748291556,\n",
              " 'linear': 0.5675011675456927,\n",
              " 'poly_d3': 0.06574839450310448,\n",
              " 'quantum_reps2': 0.041903073829159636}"
            ]
          },
          "execution_count": 20,
          "metadata": {},
          "output_type": "execute_result"
        }
      ],
      "source": [
        "from sklearn.metrics.pairwise import rbf_kernel, linear_kernel, polynomial_kernel\n",
        "import math\n",
        "\n",
        "def center_kernel(K):\n",
        "    n = K.shape[0]\n",
        "    H = np.eye(n) - np.ones((n, n))/n\n",
        "    return H @ K @ H\n",
        "\n",
        "def kernel_alignment(K, y):\n",
        "    # y en {-1, +1}\n",
        "    y_pm = np.where(y==1, 1, -1).astype(float)\n",
        "    yyT = np.outer(y_pm, y_pm)\n",
        "    Kc = center_kernel(K)\n",
        "    Yc = center_kernel(yyT)\n",
        "    num = np.sum(Kc * Yc)\n",
        "    den = math.sqrt(np.sum(Kc*Kc) * np.sum(Yc*Yc))\n",
        "    return float(num/den)\n",
        "\n",
        "# Submuestreo (opcional) si el kernel cuántico es costoso; aquí usamos todo\n",
        "X_eval, y_eval = X, y\n",
        "\n",
        "# Kernels clásicos\n",
        "K_rbf = rbf_kernel(X_eval, X_eval, gamma=0.1)\n",
        "K_lin = linear_kernel(X_eval, X_eval)\n",
        "K_poly = polynomial_kernel(X_eval, X_eval, degree=3)\n",
        "\n",
        "# Kernel cuántico\n",
        "qk_eval = make_quantum_kernel(reps=2, feature_dimension=X_eval.shape[1])\n",
        "K_q = qk_eval.evaluate(X_eval)  # matriz NxN\n",
        "\n",
        "alignments = {\n",
        "    \"rbf\": kernel_alignment(K_rbf, y_eval),\n",
        "    \"linear\": kernel_alignment(K_lin, y_eval),\n",
        "    \"poly_d3\": kernel_alignment(K_poly, y_eval),\n",
        "    \"quantum_reps2\": kernel_alignment(K_q, y_eval)\n",
        "}\n",
        "\n",
        "with open(OUT_DIR / \"kernel_alignment.json\", \"w\") as f:\n",
        "    json.dump(alignments, f, indent=2)\n",
        "alignments\n"
      ]
    },
    {
      "cell_type": "markdown",
      "metadata": {},
      "source": [
        "## 9) Visualizaciones (opcional)\n",
        "Para evitar acoplar estilos, se generan **boxplots** simples con `matplotlib`.\n"
      ]
    },
    {
      "cell_type": "code",
      "execution_count": 21,
      "metadata": {},
      "outputs": [
        {
          "name": "stderr",
          "output_type": "stream",
          "text": [
            "C:\\Users\\Cassandra\\AppData\\Local\\Temp\\ipykernel_5800\\3774529347.py:5: MatplotlibDeprecationWarning: The 'labels' parameter of boxplot() has been renamed 'tick_labels' since Matplotlib 3.9; support for the old name will be dropped in 3.11.\n",
            "  plt.boxplot([acc_svm, acc_qsvm], labels=[\"SVM\", \"QSVM\"])\n"
          ]
        },
        {
          "data": {
            "image/png": "[encoded data removed]",
            "text/plain": [
              "<Figure size 640x480 with 1 Axes>"
            ]
          },
          "metadata": {},
          "output_type": "display_data"
        },
        {
          "name": "stderr",
          "output_type": "stream",
          "text": [
            "C:\\Users\\Cassandra\\AppData\\Local\\Temp\\ipykernel_5800\\3774529347.py:12: MatplotlibDeprecationWarning: The 'labels' parameter of boxplot() has been renamed 'tick_labels' since Matplotlib 3.9; support for the old name will be dropped in 3.11.\n",
            "  plt.boxplot([f1_svm, f1_qsvm], labels=[\"SVM\", \"QSVM\"])\n"
          ]
        },
        {
          "data": {
            "image/png": "[encoded data removed]",
            "text/plain": [
              "<Figure size 640x480 with 1 Axes>"
            ]
          },
          "metadata": {},
          "output_type": "display_data"
        }
      ],
      "source": [
        "import matplotlib.pyplot as plt\n",
        "\n",
        "# Boxplot accuracy\n",
        "plt.figure()\n",
        "plt.boxplot([acc_svm, acc_qsvm], labels=[\"SVM\", \"QSVM\"])\n",
        "plt.title(\"Distribución de Accuracy por Split\")\n",
        "plt.ylabel(\"Accuracy\")\n",
        "plt.show()\n",
        "\n",
        "# Boxplot F1\n",
        "plt.figure()\n",
        "plt.boxplot([f1_svm, f1_qsvm], labels=[\"SVM\", \"QSVM\"])\n",
        "plt.title(\"Distribución de F1 por Split\")\n",
        "plt.ylabel(\"F1\")\n",
        "plt.show()\n"
      ]
    },
    {
      "cell_type": "markdown",
      "metadata": {},
      "source": [
        "## 10) Resumen y exportación final\n",
        "- CSV con métricas por *split*\n",
        "- JSON con hiperparámetros óptimos por *split*\n",
        "- Recordatorio sobre costos de *shots* si se usa hardware real\n"
      ]
    },
    {
      "cell_type": "code",
      "execution_count": 22,
      "metadata": {},
      "outputs": [
        {
          "data": {
            "text/plain": [
              "WindowsPath('results_qsvm_experiment/per_split_metrics.csv')"
            ]
          },
          "execution_count": 22,
          "metadata": {},
          "output_type": "execute_result"
        }
      ],
      "source": [
        "rows = []\n",
        "for r in results:\n",
        "    row = {\n",
        "        \"split\": r[\"split\"],\n",
        "        \"acc_svm\": r[\"svm\"][\"acc\"],\n",
        "        \"acc_qsvm\": r[\"qsvm\"][\"acc\"],\n",
        "        \"f1_svm\": r[\"svm\"][\"f1\"],\n",
        "        \"f1_qsvm\": r[\"qsvm\"][\"f1\"],\n",
        "        \"svm_best\": json.dumps(r[\"svm\"][\"best_params\"]),\n",
        "        \"qsvm_best\": json.dumps(r[\"qsvm\"][\"best_params\"]),\n",
        "    }\n",
        "    rows.append(row)\n",
        "\n",
        "df = pd.DataFrame(rows)\n",
        "csv_path = OUT_DIR / \"per_split_metrics.csv\"\n",
        "df.to_csv(csv_path, index=False)\n",
        "csv_path\n"
      ]
    },
    {
      "cell_type": "markdown",
      "metadata": {},
      "source": [
        "---\n",
        "\n",
        "### Apéndice A — Uso opcional de IBM Runtime (si tienes acceso)\n",
        "Ejecutar en hardware real aumentará el **ruido** y demandará **más *shots*** para estimar el kernel con precisión.\n",
        "\n",
        "> Requiere haber configurado `QiskitRuntimeService` con tu cuenta de IBM Quantum / IBM Cloud.\n"
      ]
    },
    {
      "cell_type": "code",
      "execution_count": null,
      "metadata": {},
      "outputs": [],
      "source": [
        "# from qiskit_ibm_runtime import QiskitRuntimeService\n",
        "# service = QiskitRuntimeService(channel=\"ibm_quantum\", instance=\"ibm-q/open/main\")\n",
        "# backend = service.backend(\"ibm_sherbrooke\")  # elige tu backend\n",
        "# # Luego, crea FidelityQuantumKernel con Sampler/Estimator atado al backend si tu versión lo permite.\n",
        "# # Consulta la doc de tu versión de Qiskit ML para vincular el Sampler al FidelityQuantumKernel.\n"
      ]
    },
    {
      "cell_type": "code",
      "execution_count": 1,
      "id": "fbe832aa",
      "metadata": {},
      "outputs": [
        {
          "data": {
            "image/png": "[encoded data removed]",
            "text/plain": [
              "<Figure size 700x400 with 1 Axes>"
            ]
          },
          "metadata": {},
          "output_type": "display_data"
        }
      ],
      "source": [
        "# ============================================\n",
        "# COMPARACIÓN DE MÉTRICAS GLOBALES: SVM vs QSVM\n",
        "# ============================================\n",
        "\n",
        "import matplotlib.pyplot as plt\n",
        "import numpy as np\n",
        "\n",
        "# === 1. Datos de métricas globales ===\n",
        "metrics = ['Accuracy', 'Precision', 'Recall', 'F1-score']\n",
        "\n",
        "svm_scores = [0.9587, 0.966, 0.975, 0.967]\n",
        "qsvm_scores = [0.6274, 0.831, 0.734, 0.771]\n",
        "\n",
        "x = np.arange(len(metrics))  # posiciones en el eje X\n",
        "width = 0.35  # ancho de las barras\n",
        "\n",
        "# === 2. Crear figura ===\n",
        "fig, ax = plt.subplots(figsize=(7, 4))\n",
        "\n",
        "# === 3. Barras ===\n",
        "svm_bars = ax.bar(x - width/2, svm_scores, width, label='SVM clásico', color='#4C72B0')\n",
        "qsvm_bars = ax.bar(x + width/2, qsvm_scores, width, label='QSVM', color='#DD8452')\n",
        "\n",
        "# === 4. Etiquetas y formato ===\n",
        "ax.set_ylim(0, 1.1)\n",
        "ax.set_ylabel('Valor métrico', fontsize=11)\n",
        "ax.set_xlabel('Métrica', fontsize=11)\n",
        "ax.set_title('Comparación global de métricas entre SVM clásico y QSVM', fontsize=13, weight='bold')\n",
        "ax.set_xticks(x)\n",
        "ax.set_xticklabels(metrics)\n",
        "ax.legend()\n",
        "\n",
        "# === 5. Mostrar valores encima de cada barra ===\n",
        "for bars in [svm_bars, qsvm_bars]:\n",
        "    for bar in bars:\n",
        "        height = bar.get_height()\n",
        "        ax.text(bar.get_x() + bar.get_width()/2, height + 0.02, f'{height:.2f}', \n",
        "                ha='center', va='bottom', fontsize=9)\n",
        "\n",
        "plt.tight_layout()\n",
        "plt.show()\n"
      ]
    }
  ],
  "metadata": {
    "kernelspec": {
      "display_name": "qiskit_svm (3.13.3)",
      "language": "python",
      "name": "python3"
    },
    "language_info": {
      "codemirror_mode": {
        "name": "ipython",
        "version": 3
      },
      "file_extension": ".py",
      "mimetype": "text/x-python",
      "name": "python",
      "nbconvert_exporter": "python",
      "pygments_lexer": "ipython3",
      "version": "3.13.3"
    }
  },
  "nbformat": 4,
  "nbformat_minor": 5
}
